{
  "nbformat": 4,
  "nbformat_minor": 0,
  "metadata": {
    "colab": {
      "provenance": []
    },
    "kernelspec": {
      "name": "python3",
      "display_name": "Python 3"
    },
    "language_info": {
      "name": "python"
    }
  },
  "cells": [
    {
      "cell_type": "code",
      "execution_count": null,
      "metadata": {
        "id": "_ntmUU3_LHG1"
      },
      "outputs": [],
      "source": [
        "from google.colab import userdata\n",
        "GEMINI_API_KEY = userdata.get('Gemini_API_KEY')"
      ]
    },
    {
      "cell_type": "code",
      "source": [
        "!pip install langchain-google-genai"
      ],
      "metadata": {
        "colab": {
          "base_uri": "https://localhost:8080/"
        },
        "collapsed": true,
        "id": "_jz-e9TSPrbz",
        "outputId": "86ff1df3-f67d-46ea-c243-e7c065e30d68"
      },
      "execution_count": null,
      "outputs": [
        {
          "output_type": "stream",
          "name": "stdout",
          "text": [
            "Requirement already satisfied: langchain-google-genai in /usr/local/lib/python3.10/dist-packages (2.0.7)\n",
            "Requirement already satisfied: filetype<2.0.0,>=1.2.0 in /usr/local/lib/python3.10/dist-packages (from langchain-google-genai) (1.2.0)\n",
            "Requirement already satisfied: google-generativeai<0.9.0,>=0.8.0 in /usr/local/lib/python3.10/dist-packages (from langchain-google-genai) (0.8.3)\n",
            "Requirement already satisfied: langchain-core<0.4,>=0.3.15 in /usr/local/lib/python3.10/dist-packages (from langchain-google-genai) (0.3.25)\n",
            "Requirement already satisfied: pydantic<3,>=2 in /usr/local/lib/python3.10/dist-packages (from langchain-google-genai) (2.10.3)\n",
            "Requirement already satisfied: google-ai-generativelanguage==0.6.10 in /usr/local/lib/python3.10/dist-packages (from google-generativeai<0.9.0,>=0.8.0->langchain-google-genai) (0.6.10)\n",
            "Requirement already satisfied: google-api-core in /usr/local/lib/python3.10/dist-packages (from google-generativeai<0.9.0,>=0.8.0->langchain-google-genai) (2.19.2)\n",
            "Requirement already satisfied: google-api-python-client in /usr/local/lib/python3.10/dist-packages (from google-generativeai<0.9.0,>=0.8.0->langchain-google-genai) (2.155.0)\n",
            "Requirement already satisfied: google-auth>=2.15.0 in /usr/local/lib/python3.10/dist-packages (from google-generativeai<0.9.0,>=0.8.0->langchain-google-genai) (2.27.0)\n",
            "Requirement already satisfied: protobuf in /usr/local/lib/python3.10/dist-packages (from google-generativeai<0.9.0,>=0.8.0->langchain-google-genai) (4.25.5)\n",
            "Requirement already satisfied: tqdm in /usr/local/lib/python3.10/dist-packages (from google-generativeai<0.9.0,>=0.8.0->langchain-google-genai) (4.67.1)\n",
            "Requirement already satisfied: typing-extensions in /usr/local/lib/python3.10/dist-packages (from google-generativeai<0.9.0,>=0.8.0->langchain-google-genai) (4.12.2)\n",
            "Requirement already satisfied: proto-plus<2.0.0dev,>=1.22.3 in /usr/local/lib/python3.10/dist-packages (from google-ai-generativelanguage==0.6.10->google-generativeai<0.9.0,>=0.8.0->langchain-google-genai) (1.25.0)\n",
            "Requirement already satisfied: PyYAML>=5.3 in /usr/local/lib/python3.10/dist-packages (from langchain-core<0.4,>=0.3.15->langchain-google-genai) (6.0.2)\n",
            "Requirement already satisfied: jsonpatch<2.0,>=1.33 in /usr/local/lib/python3.10/dist-packages (from langchain-core<0.4,>=0.3.15->langchain-google-genai) (1.33)\n",
            "Requirement already satisfied: langsmith<0.3,>=0.1.125 in /usr/local/lib/python3.10/dist-packages (from langchain-core<0.4,>=0.3.15->langchain-google-genai) (0.2.3)\n",
            "Requirement already satisfied: packaging<25,>=23.2 in /usr/local/lib/python3.10/dist-packages (from langchain-core<0.4,>=0.3.15->langchain-google-genai) (24.2)\n",
            "Requirement already satisfied: tenacity!=8.4.0,<10.0.0,>=8.1.0 in /usr/local/lib/python3.10/dist-packages (from langchain-core<0.4,>=0.3.15->langchain-google-genai) (9.0.0)\n",
            "Requirement already satisfied: annotated-types>=0.6.0 in /usr/local/lib/python3.10/dist-packages (from pydantic<3,>=2->langchain-google-genai) (0.7.0)\n",
            "Requirement already satisfied: pydantic-core==2.27.1 in /usr/local/lib/python3.10/dist-packages (from pydantic<3,>=2->langchain-google-genai) (2.27.1)\n",
            "Requirement already satisfied: googleapis-common-protos<2.0.dev0,>=1.56.2 in /usr/local/lib/python3.10/dist-packages (from google-api-core->google-generativeai<0.9.0,>=0.8.0->langchain-google-genai) (1.66.0)\n",
            "Requirement already satisfied: requests<3.0.0.dev0,>=2.18.0 in /usr/local/lib/python3.10/dist-packages (from google-api-core->google-generativeai<0.9.0,>=0.8.0->langchain-google-genai) (2.32.3)\n",
            "Requirement already satisfied: cachetools<6.0,>=2.0.0 in /usr/local/lib/python3.10/dist-packages (from google-auth>=2.15.0->google-generativeai<0.9.0,>=0.8.0->langchain-google-genai) (5.5.0)\n",
            "Requirement already satisfied: pyasn1-modules>=0.2.1 in /usr/local/lib/python3.10/dist-packages (from google-auth>=2.15.0->google-generativeai<0.9.0,>=0.8.0->langchain-google-genai) (0.4.1)\n",
            "Requirement already satisfied: rsa<5,>=3.1.4 in /usr/local/lib/python3.10/dist-packages (from google-auth>=2.15.0->google-generativeai<0.9.0,>=0.8.0->langchain-google-genai) (4.9)\n",
            "Requirement already satisfied: jsonpointer>=1.9 in /usr/local/lib/python3.10/dist-packages (from jsonpatch<2.0,>=1.33->langchain-core<0.4,>=0.3.15->langchain-google-genai) (3.0.0)\n",
            "Requirement already satisfied: httpx<1,>=0.23.0 in /usr/local/lib/python3.10/dist-packages (from langsmith<0.3,>=0.1.125->langchain-core<0.4,>=0.3.15->langchain-google-genai) (0.28.1)\n",
            "Requirement already satisfied: orjson<4.0.0,>=3.9.14 in /usr/local/lib/python3.10/dist-packages (from langsmith<0.3,>=0.1.125->langchain-core<0.4,>=0.3.15->langchain-google-genai) (3.10.12)\n",
            "Requirement already satisfied: requests-toolbelt<2.0.0,>=1.0.0 in /usr/local/lib/python3.10/dist-packages (from langsmith<0.3,>=0.1.125->langchain-core<0.4,>=0.3.15->langchain-google-genai) (1.0.0)\n",
            "Requirement already satisfied: httplib2<1.dev0,>=0.19.0 in /usr/local/lib/python3.10/dist-packages (from google-api-python-client->google-generativeai<0.9.0,>=0.8.0->langchain-google-genai) (0.22.0)\n",
            "Requirement already satisfied: google-auth-httplib2<1.0.0,>=0.2.0 in /usr/local/lib/python3.10/dist-packages (from google-api-python-client->google-generativeai<0.9.0,>=0.8.0->langchain-google-genai) (0.2.0)\n",
            "Requirement already satisfied: uritemplate<5,>=3.0.1 in /usr/local/lib/python3.10/dist-packages (from google-api-python-client->google-generativeai<0.9.0,>=0.8.0->langchain-google-genai) (4.1.1)\n",
            "Requirement already satisfied: grpcio<2.0dev,>=1.33.2 in /usr/local/lib/python3.10/dist-packages (from google-api-core[grpc]!=2.0.*,!=2.1.*,!=2.10.*,!=2.2.*,!=2.3.*,!=2.4.*,!=2.5.*,!=2.6.*,!=2.7.*,!=2.8.*,!=2.9.*,<3.0.0dev,>=1.34.1->google-ai-generativelanguage==0.6.10->google-generativeai<0.9.0,>=0.8.0->langchain-google-genai) (1.68.1)\n",
            "Requirement already satisfied: grpcio-status<2.0.dev0,>=1.33.2 in /usr/local/lib/python3.10/dist-packages (from google-api-core[grpc]!=2.0.*,!=2.1.*,!=2.10.*,!=2.2.*,!=2.3.*,!=2.4.*,!=2.5.*,!=2.6.*,!=2.7.*,!=2.8.*,!=2.9.*,<3.0.0dev,>=1.34.1->google-ai-generativelanguage==0.6.10->google-generativeai<0.9.0,>=0.8.0->langchain-google-genai) (1.62.3)\n",
            "Requirement already satisfied: pyparsing!=3.0.0,!=3.0.1,!=3.0.2,!=3.0.3,<4,>=2.4.2 in /usr/local/lib/python3.10/dist-packages (from httplib2<1.dev0,>=0.19.0->google-api-python-client->google-generativeai<0.9.0,>=0.8.0->langchain-google-genai) (3.2.0)\n",
            "Requirement already satisfied: anyio in /usr/local/lib/python3.10/dist-packages (from httpx<1,>=0.23.0->langsmith<0.3,>=0.1.125->langchain-core<0.4,>=0.3.15->langchain-google-genai) (3.7.1)\n",
            "Requirement already satisfied: certifi in /usr/local/lib/python3.10/dist-packages (from httpx<1,>=0.23.0->langsmith<0.3,>=0.1.125->langchain-core<0.4,>=0.3.15->langchain-google-genai) (2024.12.14)\n",
            "Requirement already satisfied: httpcore==1.* in /usr/local/lib/python3.10/dist-packages (from httpx<1,>=0.23.0->langsmith<0.3,>=0.1.125->langchain-core<0.4,>=0.3.15->langchain-google-genai) (1.0.7)\n",
            "Requirement already satisfied: idna in /usr/local/lib/python3.10/dist-packages (from httpx<1,>=0.23.0->langsmith<0.3,>=0.1.125->langchain-core<0.4,>=0.3.15->langchain-google-genai) (3.10)\n",
            "Requirement already satisfied: h11<0.15,>=0.13 in /usr/local/lib/python3.10/dist-packages (from httpcore==1.*->httpx<1,>=0.23.0->langsmith<0.3,>=0.1.125->langchain-core<0.4,>=0.3.15->langchain-google-genai) (0.14.0)\n",
            "Requirement already satisfied: pyasn1<0.7.0,>=0.4.6 in /usr/local/lib/python3.10/dist-packages (from pyasn1-modules>=0.2.1->google-auth>=2.15.0->google-generativeai<0.9.0,>=0.8.0->langchain-google-genai) (0.6.1)\n",
            "Requirement already satisfied: charset-normalizer<4,>=2 in /usr/local/lib/python3.10/dist-packages (from requests<3.0.0.dev0,>=2.18.0->google-api-core->google-generativeai<0.9.0,>=0.8.0->langchain-google-genai) (3.4.0)\n",
            "Requirement already satisfied: urllib3<3,>=1.21.1 in /usr/local/lib/python3.10/dist-packages (from requests<3.0.0.dev0,>=2.18.0->google-api-core->google-generativeai<0.9.0,>=0.8.0->langchain-google-genai) (2.2.3)\n",
            "Requirement already satisfied: sniffio>=1.1 in /usr/local/lib/python3.10/dist-packages (from anyio->httpx<1,>=0.23.0->langsmith<0.3,>=0.1.125->langchain-core<0.4,>=0.3.15->langchain-google-genai) (1.3.1)\n",
            "Requirement already satisfied: exceptiongroup in /usr/local/lib/python3.10/dist-packages (from anyio->httpx<1,>=0.23.0->langsmith<0.3,>=0.1.125->langchain-core<0.4,>=0.3.15->langchain-google-genai) (1.2.2)\n"
          ]
        }
      ]
    },
    {
      "cell_type": "code",
      "source": [
        "from langchain_google_genai import ChatGoogleGenerativeAI"
      ],
      "metadata": {
        "id": "PVx2bLWTPzlR"
      },
      "execution_count": null,
      "outputs": []
    },
    {
      "cell_type": "code",
      "source": [
        "llm = ChatGoogleGenerativeAI(\n",
        "    api_key=GEMINI_API_KEY,\n",
        "    model=\"gemini-2.0-flash-exp\",\n",
        ")"
      ],
      "metadata": {
        "id": "xtP6Fo6rQDtQ"
      },
      "execution_count": null,
      "outputs": []
    },
    {
      "cell_type": "code",
      "source": [
        "from google.colab import files\n",
        "uploaded = files.upload()\n",
        "for file_name in uploaded.keys():\n",
        "  print(f\"uploaded file: {file_name}\")"
      ],
      "metadata": {
        "colab": {
          "base_uri": "https://localhost:8080/",
          "height": 90
        },
        "id": "tSmNhKfFQe0A",
        "outputId": "9176464b-d5bd-4a96-c1eb-7d02b809f4e8"
      },
      "execution_count": null,
      "outputs": [
        {
          "output_type": "display_data",
          "data": {
            "text/plain": [
              "<IPython.core.display.HTML object>"
            ],
            "text/html": [
              "\n",
              "     <input type=\"file\" id=\"files-e2aa9a18-5714-449e-91f7-43023d7a798d\" name=\"files[]\" multiple disabled\n",
              "        style=\"border:none\" />\n",
              "     <output id=\"result-e2aa9a18-5714-449e-91f7-43023d7a798d\">\n",
              "      Upload widget is only available when the cell has been executed in the\n",
              "      current browser session. Please rerun this cell to enable.\n",
              "      </output>\n",
              "      <script>// Copyright 2017 Google LLC\n",
              "//\n",
              "// Licensed under the Apache License, Version 2.0 (the \"License\");\n",
              "// you may not use this file except in compliance with the License.\n",
              "// You may obtain a copy of the License at\n",
              "//\n",
              "//      http://www.apache.org/licenses/LICENSE-2.0\n",
              "//\n",
              "// Unless required by applicable law or agreed to in writing, software\n",
              "// distributed under the License is distributed on an \"AS IS\" BASIS,\n",
              "// WITHOUT WARRANTIES OR CONDITIONS OF ANY KIND, either express or implied.\n",
              "// See the License for the specific language governing permissions and\n",
              "// limitations under the License.\n",
              "\n",
              "/**\n",
              " * @fileoverview Helpers for google.colab Python module.\n",
              " */\n",
              "(function(scope) {\n",
              "function span(text, styleAttributes = {}) {\n",
              "  const element = document.createElement('span');\n",
              "  element.textContent = text;\n",
              "  for (const key of Object.keys(styleAttributes)) {\n",
              "    element.style[key] = styleAttributes[key];\n",
              "  }\n",
              "  return element;\n",
              "}\n",
              "\n",
              "// Max number of bytes which will be uploaded at a time.\n",
              "const MAX_PAYLOAD_SIZE = 100 * 1024;\n",
              "\n",
              "function _uploadFiles(inputId, outputId) {\n",
              "  const steps = uploadFilesStep(inputId, outputId);\n",
              "  const outputElement = document.getElementById(outputId);\n",
              "  // Cache steps on the outputElement to make it available for the next call\n",
              "  // to uploadFilesContinue from Python.\n",
              "  outputElement.steps = steps;\n",
              "\n",
              "  return _uploadFilesContinue(outputId);\n",
              "}\n",
              "\n",
              "// This is roughly an async generator (not supported in the browser yet),\n",
              "// where there are multiple asynchronous steps and the Python side is going\n",
              "// to poll for completion of each step.\n",
              "// This uses a Promise to block the python side on completion of each step,\n",
              "// then passes the result of the previous step as the input to the next step.\n",
              "function _uploadFilesContinue(outputId) {\n",
              "  const outputElement = document.getElementById(outputId);\n",
              "  const steps = outputElement.steps;\n",
              "\n",
              "  const next = steps.next(outputElement.lastPromiseValue);\n",
              "  return Promise.resolve(next.value.promise).then((value) => {\n",
              "    // Cache the last promise value to make it available to the next\n",
              "    // step of the generator.\n",
              "    outputElement.lastPromiseValue = value;\n",
              "    return next.value.response;\n",
              "  });\n",
              "}\n",
              "\n",
              "/**\n",
              " * Generator function which is called between each async step of the upload\n",
              " * process.\n",
              " * @param {string} inputId Element ID of the input file picker element.\n",
              " * @param {string} outputId Element ID of the output display.\n",
              " * @return {!Iterable<!Object>} Iterable of next steps.\n",
              " */\n",
              "function* uploadFilesStep(inputId, outputId) {\n",
              "  const inputElement = document.getElementById(inputId);\n",
              "  inputElement.disabled = false;\n",
              "\n",
              "  const outputElement = document.getElementById(outputId);\n",
              "  outputElement.innerHTML = '';\n",
              "\n",
              "  const pickedPromise = new Promise((resolve) => {\n",
              "    inputElement.addEventListener('change', (e) => {\n",
              "      resolve(e.target.files);\n",
              "    });\n",
              "  });\n",
              "\n",
              "  const cancel = document.createElement('button');\n",
              "  inputElement.parentElement.appendChild(cancel);\n",
              "  cancel.textContent = 'Cancel upload';\n",
              "  const cancelPromise = new Promise((resolve) => {\n",
              "    cancel.onclick = () => {\n",
              "      resolve(null);\n",
              "    };\n",
              "  });\n",
              "\n",
              "  // Wait for the user to pick the files.\n",
              "  const files = yield {\n",
              "    promise: Promise.race([pickedPromise, cancelPromise]),\n",
              "    response: {\n",
              "      action: 'starting',\n",
              "    }\n",
              "  };\n",
              "\n",
              "  cancel.remove();\n",
              "\n",
              "  // Disable the input element since further picks are not allowed.\n",
              "  inputElement.disabled = true;\n",
              "\n",
              "  if (!files) {\n",
              "    return {\n",
              "      response: {\n",
              "        action: 'complete',\n",
              "      }\n",
              "    };\n",
              "  }\n",
              "\n",
              "  for (const file of files) {\n",
              "    const li = document.createElement('li');\n",
              "    li.append(span(file.name, {fontWeight: 'bold'}));\n",
              "    li.append(span(\n",
              "        `(${file.type || 'n/a'}) - ${file.size} bytes, ` +\n",
              "        `last modified: ${\n",
              "            file.lastModifiedDate ? file.lastModifiedDate.toLocaleDateString() :\n",
              "                                    'n/a'} - `));\n",
              "    const percent = span('0% done');\n",
              "    li.appendChild(percent);\n",
              "\n",
              "    outputElement.appendChild(li);\n",
              "\n",
              "    const fileDataPromise = new Promise((resolve) => {\n",
              "      const reader = new FileReader();\n",
              "      reader.onload = (e) => {\n",
              "        resolve(e.target.result);\n",
              "      };\n",
              "      reader.readAsArrayBuffer(file);\n",
              "    });\n",
              "    // Wait for the data to be ready.\n",
              "    let fileData = yield {\n",
              "      promise: fileDataPromise,\n",
              "      response: {\n",
              "        action: 'continue',\n",
              "      }\n",
              "    };\n",
              "\n",
              "    // Use a chunked sending to avoid message size limits. See b/62115660.\n",
              "    let position = 0;\n",
              "    do {\n",
              "      const length = Math.min(fileData.byteLength - position, MAX_PAYLOAD_SIZE);\n",
              "      const chunk = new Uint8Array(fileData, position, length);\n",
              "      position += length;\n",
              "\n",
              "      const base64 = btoa(String.fromCharCode.apply(null, chunk));\n",
              "      yield {\n",
              "        response: {\n",
              "          action: 'append',\n",
              "          file: file.name,\n",
              "          data: base64,\n",
              "        },\n",
              "      };\n",
              "\n",
              "      let percentDone = fileData.byteLength === 0 ?\n",
              "          100 :\n",
              "          Math.round((position / fileData.byteLength) * 100);\n",
              "      percent.textContent = `${percentDone}% done`;\n",
              "\n",
              "    } while (position < fileData.byteLength);\n",
              "  }\n",
              "\n",
              "  // All done.\n",
              "  yield {\n",
              "    response: {\n",
              "      action: 'complete',\n",
              "    }\n",
              "  };\n",
              "}\n",
              "\n",
              "scope.google = scope.google || {};\n",
              "scope.google.colab = scope.google.colab || {};\n",
              "scope.google.colab._files = {\n",
              "  _uploadFiles,\n",
              "  _uploadFilesContinue,\n",
              "};\n",
              "})(self);\n",
              "</script> "
            ]
          },
          "metadata": {}
        },
        {
          "output_type": "stream",
          "name": "stdout",
          "text": [
            "Saving Crafting Scripts for Video Magic!-VEED.mp4 to Crafting Scripts for Video Magic!-VEED.mp4\n",
            "uploaded file: Crafting Scripts for Video Magic!-VEED.mp4\n"
          ]
        }
      ]
    },
    {
      "cell_type": "code",
      "source": [
        "from google import genai\n",
        "from google.genai import Client"
      ],
      "metadata": {
        "id": "pvAXXA9CScF-"
      },
      "execution_count": null,
      "outputs": []
    },
    {
      "cell_type": "code",
      "source": [
        "model: str =\"gemini-2.0-flash-exp\"\n",
        "client: Client = genai.Client(\n",
        "    api_key=GEMINI_API_KEY\n",
        ")"
      ],
      "metadata": {
        "id": "o0HCtOT9TV9t"
      },
      "execution_count": null,
      "outputs": []
    },
    {
      "cell_type": "code",
      "source": [
        "import time\n",
        "\n",
        "def upload_video(video_file_name):\n",
        "  video_file = client.files.upload(path=\"/content/Crafting Scripts for Video Magic!-VEED.mp4\")\n",
        "  while video_file.state == \"PROCESSING\":\n",
        "      print('Waiting for video to be processed.')\n",
        "      time.sleep(10)\n",
        "      video_file = client.files.get(name=video_file.name or \"\")\n",
        "\n",
        "  if video_file.state == \"FAILED\":\n",
        "    raise ValueError(video_file.state)\n",
        "  print(f'Video processing complete: ' + (video_file.uri or \"\"))\n",
        "\n",
        "  return video_file\n",
        "\n",
        "pottery_video = upload_video('Pottery.mp4')"
      ],
      "metadata": {
        "colab": {
          "base_uri": "https://localhost:8080/"
        },
        "id": "bL8tkNapT9ku",
        "outputId": "a330c1c6-3fc9-406d-8035-fc61b9ccff46"
      },
      "execution_count": null,
      "outputs": [
        {
          "output_type": "stream",
          "name": "stdout",
          "text": [
            "Waiting for video to be processed.\n",
            "Video processing complete: https://generativelanguage.googleapis.com/v1beta/files/zc9a77qh31z4\n"
          ]
        }
      ]
    },
    {
      "cell_type": "code",
      "source": [
        "\n",
        "from google.genai.types import Content, Part\n",
        "prompt = \"\"\"For each scene in this video,\n",
        "            generate captions that describe the scene along with any spoken text placed in quotation marks.\n",
        "            Place each caption into an object with the timecode of the caption in the video.\n",
        "         \"\"\"\n",
        "\n",
        "video = pottery_video\n",
        "\n",
        "response = client.models.generate_content(\n",
        "    model=model,\n",
        "    contents=[\n",
        "        Content(\n",
        "            role=\"user\",\n",
        "            parts=[\n",
        "                Part.from_uri(\n",
        "                    file_uri=video.uri or \"\",\n",
        "                    mime_type=video.mime_type or \"\"),\n",
        "                ]),\n",
        "        prompt,\n",
        "    ]\n",
        ")\n"
      ],
      "metadata": {
        "id": "jJdB5rSpXvlG"
      },
      "execution_count": null,
      "outputs": []
    },
    {
      "cell_type": "code",
      "source": [
        "from IPython.display import display,Audio, Markdown"
      ],
      "metadata": {
        "id": "JgyHG1wvYtuA"
      },
      "execution_count": null,
      "outputs": []
    },
    {
      "cell_type": "code",
      "source": [
        "Markdown(response.text)"
      ],
      "metadata": {
        "colab": {
          "base_uri": "https://localhost:8080/",
          "height": 1000
        },
        "id": "FkZ7TmSzYZZT",
        "outputId": "889292f6-5d5e-48cd-c4a2-b369830a3a9d"
      },
      "execution_count": null,
      "outputs": [
        {
          "output_type": "execute_result",
          "data": {
            "text/plain": [
              "<IPython.core.display.Markdown object>"
            ],
            "text/markdown": "```json\n[\n  {\n    \"timecode\": \"0:00\",\n    \"caption\": \"A person sits with their back to the camera in a meditation pose. They are wearing black leggings and a long-sleeved, red cropped top, and are sitting on a wood deck with water and sky in the background. The text “IMAGINE” and an upward arrow emoji are superimposed on the image.\"\n  },\n  {\n    \"timecode\": \"0:01\",\n    \"caption\": \"The same view of the person in meditation, but with the text “IMAGINE WAKING UP EVERY” superimposed.\"\n  },\n   {\n    \"timecode\": \"0:02\",\n     \"caption\": \"The same view of the person in meditation, but with the text “A PURPOSE” and emojis of a pink heart and two clinking champagne glasses.\"\n    },\n  {\n    \"timecode\": \"0:02\",\n   \"caption\": \"The same view of the person in meditation, but with the text “A PURPOSE THAT FUELS” superimposed.\"\n  },\n  {\n    \"timecode\":\"0:03\",\n      \"caption\":\"The same view of the person in meditation, but with the text “A PURPOSE THAT FUELS YOUR PASSION” and the phrase “PICTURE THIS” below it\"\n},\n {\n \"timecode\": \"0:05\",\n \"caption\": \"A multi-colored, glowing dotted sphere with a background of darkness. Text “YOU’RE NOT JUST GOING” is overlaid.\"\n },\n{\n  \"timecode\": \"0:06\",\n\"caption\": \"The same dotted sphere, but with the text “YOU’RE NOT JUST GOING THROUGH THE MOTIONS” overlaid.\"\n},\n{\n \"timecode\": \"0:07\",\n\"caption\": \"The same dotted sphere, but with the text “YOU’RE ACTIVELY” overlaid.\"\n },\n{\n\"timecode\": \"0:08\",\n \"caption\": \"The same dotted sphere, but with the text “YOU’RE ACTIVELY SHAPING YOUR FUTURE” overlaid.\"\n},\n{\n\"timecode\": \"0:09\",\n\"caption\":\"The same dotted sphere with the text “EVERY” with an icon of stacked books.\"\n},\n{\n\"timecode\":\"0:10\",\n\"caption\":\"The same dotted sphere with the text “EVERY CHOICE YOU MAKE”.\"\n},\n{\n\"timecode\":\"0:11\",\n\"caption\":\"A three-dimensional geometric structure on a dark background with the text “YOU READ” and an icon of two profile figures.\"\n},\n{\n\"timecode\":\"0:12\",\n \"caption\":\"The same geometric structure with the text “YOU READ TO THE PEOPLE YOU SURROUND”.\"\n},\n{\n \"timecode\":\"0:13\",\n\"caption\":\"The same geometric structure with the text “YOURSELF WITH”.\"\n},\n{\n\"timecode\":\"0:14\",\n\"caption\":\"The same geometric structure with the text “YOURSELF WITH, BUILDS THE LIFE YOU”.\"\n},\n{\n \"timecode\":\"0:15\",\n\"caption\":\"The same geometric structure with the text “YOURSELF WITH, BUILDS THE LIFE YOU DESIRE”.\"\n},\n{\n\"timecode\":\"0:16\",\n\"caption\":\"A person in a wheelchair is using weights. The text “EMBRACE CHALLENGES” is superimposed with a grey and white cloud emoji.\"\n},\n{\n\"timecode\":\"0:17\",\n\"caption\":\"The same view of the person using weights but with the text “EMBRACE CHALLENGES AS OPPORTUNITIES” is superimposed.\"\n},\n{\n \"timecode\":\"0:18\",\n\"caption\":\"The same view of the person using weights but with the text “EMBRACE CHALLENGES AS OPPORTUNITIES FOR GROWTH” is superimposed.\"\n},\n{\n \"timecode\":\"0:19\",\n\"caption\":\"The same view of the person using weights but with the text “EACH SETBACK” is superimposed.\"\n},\n{\n\"timecode\":\"0:20\",\n \"caption\":\"The same view of the person using weights but with the text “EACH SETBACK IS A LESSON” is superimposed.\"\n},\n{\n\"timecode\":\"0:21\",\n\"caption\":\"The same view of the person using weights but with the text “EACH SETBACK IS A LESSON, NOT A FAILURE” is superimposed.\"\n},\n{\n \"timecode\":\"0:22\",\n  \"caption\":\"A person is holding a piece of paper with text overlaid that reads “REMEMBER” and an icon of a gold medal with a red, white and blue ribbon on top.\"\n},\n{\n  \"timecode\":\"0:23\",\n  \"caption\":\"The person throws the paper in the air and text reads “REMEMBER, SUCCESS ISN’T”.\"\n},\n{\n\"timecode\":\"0:24\",\n\"caption\":\"The person throws the paper in the air and the text “REMEMBER, SUCCESS ISN’T ABOUT REACHING”.\"\n},\n{\n \"timecode\":\"0:25\",\n \"caption\":\"The person throws the paper in the air and the text “REMEMBER, SUCCESS ISN’T ABOUT REACHING THE DESTINATION.”\"\n},\n{\n \"timecode\":\"0:26\",\n \"caption\":\"A man with his back to the camera is looking at a field and mountains in the background, and a footprint emoji is in the center. The text reads “IT’S ABOUT ENJOYING”.\"\n},\n{\n \"timecode\":\"0:27\",\n \"caption\":\"The same view of the man but with text that reads “IT’S ABOUT ENJOYING AND” and a stacked books icon is superimposed.\"\n},\n{\n\"timecode\":\"0:28\",\n \"caption\":\"The same view of the man but with the text “IT’S ABOUT ENJOYING AND LEARNING ALONG THE WAY.”\"\n},\n{\n \"timecode\":\"0:29\",\n  \"caption\": \"Water is rippling with text superimposed that reads “SO”.\"\n},\n{\n  \"timecode\":\"0:30\",\n  \"caption\": \"Water is rippling with text superimposed that reads “SO TAKE THAT”\"\n},\n{\n\"timecode\":\"0:31\",\n\"caption\":\"Water is rippling with a smart watch on the surface. The text is “TRUST YOUR”.\"\n},\n{\n \"timecode\":\"0:32\",\n \"caption\":\"Water is rippling with a smart watch on the surface. The text is “TRUST YOUR INSTINCTS AND”.\"\n},\n{\n \"timecode\":\"0:33\",\n  \"caption\":\"A dark sky background with the Earth in the center. Text on the screen says “HOW YOUR WORLD”\"\n},\n{\n  \"timecode\":\"0:34\",\n  \"caption\":\"The dark sky and Earth view continues and text on the screen says “HOW YOUR WORLD TRANSFORMS”.\"\n},\n{\n  \"timecode\":\"0:35\",\n  \"caption\":\"The shot shows an arm with a colorful sleeve and a laptop in the foreground. The text on the screen says “YOU HAVE” and a bicep emoji.\"\n},\n{\n\"timecode\":\"0:36\",\n  \"caption\":\"The arm with colorful sleeve is typing on the laptop, and the text says “YOU HAVE THE POWER TO CREATE YOUR”\"\n},\n{\n \"timecode\":\"0:37\",\n  \"caption\":\"The arm with colorful sleeve is still typing on the laptop and the text says “YOU HAVE THE POWER TO CREATE YOUR OWN STORY”.\"\n}\n]\n```"
          },
          "metadata": {},
          "execution_count": 20
        }
      ]
    },
    {
      "cell_type": "code",
      "source": [
        "response.text"
      ],
      "metadata": {
        "colab": {
          "base_uri": "https://localhost:8080/",
          "height": 191
        },
        "id": "IRbOlPnbYhbD",
        "outputId": "e1941e0e-e41a-4d7c-b447-ea5fb76c2c87"
      },
      "execution_count": null,
      "outputs": [
        {
          "output_type": "execute_result",
          "data": {
            "text/plain": [
              "'```json\\n[\\n  {\\n    \"timecode\": \"0:00\",\\n    \"caption\": \"A person sits with their back to the camera in a meditation pose. They are wearing black leggings and a long-sleeved, red cropped top, and are sitting on a wood deck with water and sky in the background. The text “IMAGINE” and an upward arrow emoji are superimposed on the image.\"\\n  },\\n  {\\n    \"timecode\": \"0:01\",\\n    \"caption\": \"The same view of the person in meditation, but with the text “IMAGINE WAKING UP EVERY” superimposed.\"\\n  },\\n   {\\n    \"timecode\": \"0:02\",\\n     \"caption\": \"The same view of the person in meditation, but with the text “A PURPOSE” and emojis of a pink heart and two clinking champagne glasses.\"\\n    },\\n  {\\n    \"timecode\": \"0:02\",\\n   \"caption\": \"The same view of the person in meditation, but with the text “A PURPOSE THAT FUELS” superimposed.\"\\n  },\\n  {\\n    \"timecode\":\"0:03\",\\n      \"caption\":\"The same view of the person in meditation, but with the text “A PURPOSE THAT FUELS YOUR PASSION” and the phrase “PICTURE THIS” below it\"\\n},\\n {\\n \"timecode\": \"0:05\",\\n \"caption\": \"A multi-colored, glowing dotted sphere with a background of darkness. Text “YOU’RE NOT JUST GOING” is overlaid.\"\\n },\\n{\\n  \"timecode\": \"0:06\",\\n\"caption\": \"The same dotted sphere, but with the text “YOU’RE NOT JUST GOING THROUGH THE MOTIONS” overlaid.\"\\n},\\n{\\n \"timecode\": \"0:07\",\\n\"caption\": \"The same dotted sphere, but with the text “YOU’RE ACTIVELY” overlaid.\"\\n },\\n{\\n\"timecode\": \"0:08\",\\n \"caption\": \"The same dotted sphere, but with the text “YOU’RE ACTIVELY SHAPING YOUR FUTURE” overlaid.\"\\n},\\n{\\n\"timecode\": \"0:09\",\\n\"caption\":\"The same dotted sphere with the text “EVERY” with an icon of stacked books.\"\\n},\\n{\\n\"timecode\":\"0:10\",\\n\"caption\":\"The same dotted sphere with the text “EVERY CHOICE YOU MAKE”.\"\\n},\\n{\\n\"timecode\":\"0:11\",\\n\"caption\":\"A three-dimensional geometric structure on a dark background with the text “YOU READ” and an icon of two profile figures.\"\\n},\\n{\\n\"timecode\":\"0:12\",\\n \"caption\":\"The same geometric structure with the text “YOU READ TO THE PEOPLE YOU SURROUND”.\"\\n},\\n{\\n \"timecode\":\"0:13\",\\n\"caption\":\"The same geometric structure with the text “YOURSELF WITH”.\"\\n},\\n{\\n\"timecode\":\"0:14\",\\n\"caption\":\"The same geometric structure with the text “YOURSELF WITH, BUILDS THE LIFE YOU”.\"\\n},\\n{\\n \"timecode\":\"0:15\",\\n\"caption\":\"The same geometric structure with the text “YOURSELF WITH, BUILDS THE LIFE YOU DESIRE”.\"\\n},\\n{\\n\"timecode\":\"0:16\",\\n\"caption\":\"A person in a wheelchair is using weights. The text “EMBRACE CHALLENGES” is superimposed with a grey and white cloud emoji.\"\\n},\\n{\\n\"timecode\":\"0:17\",\\n\"caption\":\"The same view of the person using weights but with the text “EMBRACE CHALLENGES AS OPPORTUNITIES” is superimposed.\"\\n},\\n{\\n \"timecode\":\"0:18\",\\n\"caption\":\"The same view of the person using weights but with the text “EMBRACE CHALLENGES AS OPPORTUNITIES FOR GROWTH” is superimposed.\"\\n},\\n{\\n \"timecode\":\"0:19\",\\n\"caption\":\"The same view of the person using weights but with the text “EACH SETBACK” is superimposed.\"\\n},\\n{\\n\"timecode\":\"0:20\",\\n \"caption\":\"The same view of the person using weights but with the text “EACH SETBACK IS A LESSON” is superimposed.\"\\n},\\n{\\n\"timecode\":\"0:21\",\\n\"caption\":\"The same view of the person using weights but with the text “EACH SETBACK IS A LESSON, NOT A FAILURE” is superimposed.\"\\n},\\n{\\n \"timecode\":\"0:22\",\\n  \"caption\":\"A person is holding a piece of paper with text overlaid that reads “REMEMBER” and an icon of a gold medal with a red, white and blue ribbon on top.\"\\n},\\n{\\n  \"timecode\":\"0:23\",\\n  \"caption\":\"The person throws the paper in the air and text reads “REMEMBER, SUCCESS ISN’T”.\"\\n},\\n{\\n\"timecode\":\"0:24\",\\n\"caption\":\"The person throws the paper in the air and the text “REMEMBER, SUCCESS ISN’T ABOUT REACHING”.\"\\n},\\n{\\n \"timecode\":\"0:25\",\\n \"caption\":\"The person throws the paper in the air and the text “REMEMBER, SUCCESS ISN’T ABOUT REACHING THE DESTINATION.”\"\\n},\\n{\\n \"timecode\":\"0:26\",\\n \"caption\":\"A man with his back to the camera is looking at a field and mountains in the background, and a footprint emoji is in the center. The text reads “IT’S ABOUT ENJOYING”.\"\\n},\\n{\\n \"timecode\":\"0:27\",\\n \"caption\":\"The same view of the man but with text that reads “IT’S ABOUT ENJOYING AND” and a stacked books icon is superimposed.\"\\n},\\n{\\n\"timecode\":\"0:28\",\\n \"caption\":\"The same view of the man but with the text “IT’S ABOUT ENJOYING AND LEARNING ALONG THE WAY.”\"\\n},\\n{\\n \"timecode\":\"0:29\",\\n  \"caption\": \"Water is rippling with text superimposed that reads “SO”.\"\\n},\\n{\\n  \"timecode\":\"0:30\",\\n  \"caption\": \"Water is rippling with text superimposed that reads “SO TAKE THAT”\"\\n},\\n{\\n\"timecode\":\"0:31\",\\n\"caption\":\"Water is rippling with a smart watch on the surface. The text is “TRUST YOUR”.\"\\n},\\n{\\n \"timecode\":\"0:32\",\\n \"caption\":\"Water is rippling with a smart watch on the surface. The text is “TRUST YOUR INSTINCTS AND”.\"\\n},\\n{\\n \"timecode\":\"0:33\",\\n  \"caption\":\"A dark sky background with the Earth in the center. Text on the screen says “HOW YOUR WORLD”\"\\n},\\n{\\n  \"timecode\":\"0:34\",\\n  \"caption\":\"The dark sky and Earth view continues and text on the screen says “HOW YOUR WORLD TRANSFORMS”.\"\\n},\\n{\\n  \"timecode\":\"0:35\",\\n  \"caption\":\"The shot shows an arm with a colorful sleeve and a laptop in the foreground. The text on the screen says “YOU HAVE” and a bicep emoji.\"\\n},\\n{\\n\"timecode\":\"0:36\",\\n  \"caption\":\"The arm with colorful sleeve is typing on the laptop, and the text says “YOU HAVE THE POWER TO CREATE YOUR”\"\\n},\\n{\\n \"timecode\":\"0:37\",\\n  \"caption\":\"The arm with colorful sleeve is still typing on the laptop and the text says “YOU HAVE THE POWER TO CREATE YOUR OWN STORY”.\"\\n}\\n]\\n```'"
            ],
            "application/vnd.google.colaboratory.intrinsic+json": {
              "type": "string"
            }
          },
          "metadata": {},
          "execution_count": 21
        }
      ]
    }
  ]
}